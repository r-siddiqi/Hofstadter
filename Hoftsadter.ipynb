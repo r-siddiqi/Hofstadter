{
 "cells": [
  {
   "cell_type": "markdown",
   "metadata": {},
   "source": [
    "Imports"
   ]
  },
  {
   "cell_type": "code",
   "execution_count": null,
   "metadata": {},
   "outputs": [],
   "source": [
    "import numpy as np\n",
    "import matplotlib.pyplot as plt\n",
    "from matplotlib import pyplot as plt\n",
    "import latexify"
   ]
  },
  {
   "cell_type": "markdown",
   "metadata": {},
   "source": [
    "Square Lattice"
   ]
  },
  {
   "cell_type": "markdown",
   "metadata": {},
   "source": [
    "The following class provides supports for simulating Anderson localization and the Hofstader model on a finite square lattice with periodic boundary conditions. The possible outputs are a plot of the eigenvalue spectrum, an eigenvector from the middle of the spectrum, the participation ratio, and the Hofstader butterfly. \n",
    "\n",
    "An interesting result to note is that the presence of disorder (it doesn't matter what the physical cause of it may be) kills the butterfly fractal. This idea is introduced in: cite Bhatt"
   ]
  },
  {
   "cell_type": "code",
   "execution_count": null,
   "metadata": {},
   "outputs": [],
   "source": [
    "class Square_Hamiltonian:\n",
    "    \"\"\" Square lattice hamiltonian class \"\"\"\n",
    "    def __init__(self, length: int, t: float, disorder: float, phi: float):\n",
    "        self.L = length  # Set hamiltonian dimensions\n",
    "        self.matrix = np.zeros((self.L * self.L, self.L * self.L), dtype=complex)  # Initialize hamiltonian matrix\n",
    "        self.disorder = disorder  # Set disorder parameter\n",
    "        self.t = t # Set hopping amplitude\n",
    "        self.phi = phi # Set magnetic field parameter\n",
    "\n",
    "    def disorder_setter(self, i):\n",
    "        # Incorporate the disorder parameter into matrix elements\n",
    "        eps_i = self.disorder * (2 * np.random.rand() - 1)  # Random on-site energy\n",
    "        self.matrix[i, i] = eps_i\n",
    "\n",
    "    def hamiltonian_setter(self, i, j, phi=None):\n",
    "        n = i * self.L + j\n",
    "        # Vertical hopping\n",
    "        m = ((i + 1) % self.L) * self.L + j\n",
    "        self.matrix[n, m] = self.t\n",
    "\n",
    "        # Horizontal hopping\n",
    "        m = i * self.L + (j + 1) % self.L\n",
    "\n",
    "        B = np.exp(1j * 2 * np.pi * (self.phi if phi is None else phi) * i)\n",
    "        self.matrix[n, m] = B * self.t\n",
    "\n",
    "        if self.disorder != 0:\n",
    "            self.disorder_setter(n)\n",
    "\n",
    "\n",
    "    def construct_matrix(self, phi=None):\n",
    "        # We want to iterate through i and j\n",
    "        for i, j in np.ndindex((self.L, self.L)):\n",
    "            self.hamiltonian_setter(i, j, phi)\n",
    "\n",
    "        if self.phi != 0:\n",
    "            self.H = (self.matrix + self.matrix.T.conj()) / 2 # symmetrize\n",
    "        else:\n",
    "            self.H = self.matrix + self.matrix.T  # symmetrize\n",
    "        print(self.H)\n",
    "        self.evals, self.evecs = np.linalg.eigh(self.H)  # calculate eigenvalues and eigenvectors\n",
    "\n",
    "    \"\"\" basic plotting functions \"\"\"\n",
    "\n",
    "    def plot_evals(self):\n",
    "        # Plot eigenvalues of hamiltonian matrix\n",
    "        plt.plot(self.evals, '.')\n",
    "        plt.ylabel(r'$E_i$')\n",
    "        plt.xlabel(r'$i$')\n",
    "        plt.show()\n",
    "\n",
    "    def plot_evec(self):\n",
    "        # Plot an eigenvector\n",
    "        self.psi = self.evecs[:,self.L//2] # Some eigenvector in the middle of the spectrum\n",
    "        plt.plot(np.abs(self.psi)**2)\n",
    "        plt.xlabel('x')\n",
    "        plt.ylabel(r'$ |\\psi(x)|^2$')\n",
    "        plt.show()\n",
    "\n",
    "    def plot_evec_disorder(self):\n",
    "        # Plot an eigenvector supposing disorder exists\n",
    "        self.psi = self.evecs[:,self.L//2] \n",
    "        fig, ax = plt.subplots(2,1,sharex=True)\n",
    "        ax[0].plot(np.abs(self.psi)**2)\n",
    "        ax[1].semilogy(np.abs(self.psi)**2)\n",
    "        ax[1].set_xlabel('x')\n",
    "        ax[0].set_ylabel(r'$ |\\psi(x)|^2$')\n",
    "        ax[1].set_ylabel(r'$ |\\psi(x)|^2$')\n",
    "        plt.show()\n",
    "\n",
    "    def plot_pr(self):\n",
    "        self.PR = 1./np.sum(np.abs(self.evecs)**4, axis=0) # 'evecs' is a matrix of $\\psi_i(x)$ amplitudes, 1st axis is x. This does the sum over x.\n",
    "        plt.plot(self.evals, self.PR, 'o')\n",
    "        plt.xlabel('E')\n",
    "        plt.ylabel('PR(E)')\n",
    "        plt.show()\n",
    "\n",
    "    \"\"\" hofstader butterfly support \"\"\"\n",
    "\n",
    "    # A gcd function to set irrational values for phi\n",
    "    def gcd(self, a, b):\n",
    "        if b == 0:\n",
    "            return a\n",
    "        return self.gcd(b, a % b)\n",
    "    # Plot the Hofstadter butterfly\n",
    "\n",
    "    def plot_butterfly(self):\n",
    "        plt.figure(figsize=(8, 6))\n",
    "        for p in range(1, self.L + 1):\n",
    "          for q in range(1, self.L + 1):\n",
    "              if q > p and self.gcd(p, q) == 1:\n",
    "                  nphi = p / q\n",
    "                  self.construct_matrix(phi = nphi) # Rebuild hamiltonian for each (p,q)\n",
    "                  # Plot each energy level for the given phi\n",
    "                  plt.plot(self.evals, np.full_like(self.evals, nphi), 'o', c=\"black\", markersize=0.1)\n",
    "\n",
    "        # Plot title and labels\n",
    "        plt.xlabel(r'$\\epsilon$', fontsize=15)\n",
    "        plt.ylabel(r'$\\phi$', fontsize=15)\n",
    "        plt.title(r'Hofstadter Butterfly for $L=' + str(self.L) + '$', fontsize=15)\n",
    "        plt.grid()\n",
    "        plt.show()\n"
   ]
  },
  {
   "cell_type": "markdown",
   "metadata": {},
   "source": [
    "Honeycomb Lattice"
   ]
  },
  {
   "cell_type": "code",
   "execution_count": null,
   "metadata": {},
   "outputs": [],
   "source": [
    "L = 3 # lattice sites\n",
    "t = 1 # hopping amplitude\n",
    "# keeping to periodic boundary conditions\n",
    "# the AA and BB blocks should be zeros for now since I'm not playing around with different on-site potentials\n",
    "AA = np.zeros((L, L), dtype= complex) # AA block\n",
    "BB = np.zeros((L, L), dtype= complex) # BB block\n",
    "\n",
    "# now I want to populate the matrixes corresponding to the AB and BA blocks using seperate functions\n",
    "\n",
    "def AB_block(L, t):\n",
    "  AB = np.zeros((L, L), dtype= complex) # initialize AB\n",
    "  for i, j in np.ndindex((L, L)):\n",
    "  # Vertical hopping: Connect (i, j) to (i + 1, j) if (i + j) % 2 == 0 (ie if the sum of indices is even since the remainder is zero)\n",
    "    if (i + j) % 2 == 0:\n",
    "      m = (i + 1) % L\n",
    "      AB[i, j] = t\n",
    "\n",
    "    # Horizontal hopping: Connect (i, j) to (i, j + 1)\n",
    "    m = (j + 1) % L\n",
    "    AB[i, m] = t\n",
    "\n",
    "  return AB\n",
    "\n",
    "def BA_block(L,t):\n",
    "  return AB_block(L, t).T.conjugate()\n",
    "\n",
    "AB = AB_block(L,t)\n",
    "BA = BA_block(L,t)\n",
    "# construct complete hamiltonian using the four blocks\n",
    "\n",
    "upper = np.concatenate((AA, AB), axis=1)\n",
    "lower = np.concatenate((BA, BB), axis=1)\n",
    "H = np.concatenate((upper, lower), axis=0)\n",
    "print(H) # just to check the hamiltonian"
   ]
  },
  {
   "cell_type": "code",
   "execution_count": null,
   "metadata": {},
   "outputs": [],
   "source": [
    "# need to make an OOP version and add butterfly supports "
   ]
  },
  {
   "cell_type": "markdown",
   "metadata": {},
   "source": [
    "Triangular Lattice"
   ]
  },
  {
   "cell_type": "markdown",
   "metadata": {},
   "source": [
    "Kagome Lattice"
   ]
  },
  {
   "cell_type": "markdown",
   "metadata": {},
   "source": [
    "Oblique Lattice "
   ]
  }
 ],
 "metadata": {
  "kernelspec": {
   "display_name": "Python 3",
   "language": "python",
   "name": "python3"
  },
  "language_info": {
   "name": "python",
   "version": "3.12.5"
  }
 },
 "nbformat": 4,
 "nbformat_minor": 2
}
