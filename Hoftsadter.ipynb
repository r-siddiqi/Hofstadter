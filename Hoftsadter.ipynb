{
 "cells": [
  {
   "cell_type": "markdown",
   "metadata": {},
   "source": [
    "Imports"
   ]
  },
  {
   "cell_type": "code",
   "execution_count": 13,
   "metadata": {},
   "outputs": [],
   "source": [
    "import numpy as np\n",
    "from matplotlib import pyplot as plt\n",
    "from math import gcd\n",
    "#import latexify"
   ]
  },
  {
   "cell_type": "markdown",
   "metadata": {},
   "source": [
    "Square Lattice"
   ]
  },
  {
   "cell_type": "markdown",
   "metadata": {},
   "source": [
    "The following class provides supports for simulating Anderson localization and the Hofstader model on a finite square lattice with periodic boundary conditions. The possible outputs are a plot of the eigenvalue spectrum, an eigenvector from the middle of the spectrum, the participation ratio, and the Hofstader butterfly. \n",
    "\n",
    "An interesting result to note is that the presence of disorder (it doesn't matter what the physical cause of it may be) kills the butterfly fractal. This idea is introduced in: cite Bhatt"
   ]
  },
  {
   "cell_type": "code",
   "execution_count": 14,
   "metadata": {},
   "outputs": [],
   "source": [
    "class Square_Hamiltonian:\n",
    "    \"\"\" Square lattice hamiltonian class \"\"\"\n",
    "    def __init__(self, length: int, t: float, disorder: float, phi: float):\n",
    "        self.L = length  # Set hamiltonian dimensions\n",
    "        self.matrix = np.zeros((self.L * self.L, self.L * self.L), dtype=complex)  # Initialize hamiltonian matrix\n",
    "        self.disorder = disorder  # Set disorder parameter\n",
    "        self.t = t # Set hopping amplitude\n",
    "        self.phi = phi # Set magnetic field parameter\n",
    "\n",
    "    def disorder_setter(self, i):\n",
    "        # Incorporate the disorder parameter into matrix elements\n",
    "        eps_i = self.disorder * (2 * np.random.rand() - 1)  # Random on-site energy\n",
    "        self.matrix[i, i] = eps_i\n",
    "\n",
    "    def hamiltonian_setter(self, i, j, phi=None):\n",
    "        n = i * self.L + j\n",
    "        # Vertical hopping\n",
    "        m = ((i + 1) % self.L) * self.L + j\n",
    "        self.matrix[n, m] = self.t\n",
    "\n",
    "        # Horizontal hopping\n",
    "        m = i * self.L + (j + 1) % self.L\n",
    "\n",
    "        B = np.exp(1j * 2 * np.pi * (self.phi if phi is None else phi) * i)\n",
    "        self.matrix[n, m] = B * self.t\n",
    "\n",
    "        if self.disorder != 0:\n",
    "            self.disorder_setter(n)\n",
    "\n",
    "\n",
    "    def construct_matrix(self, phi=None):\n",
    "        # We want to iterate through i and j\n",
    "        for i, j in np.ndindex((self.L, self.L)):\n",
    "            self.hamiltonian_setter(i, j, phi)\n",
    "\n",
    "        if self.phi != 0:\n",
    "            self.H = (self.matrix + self.matrix.T.conj()) / 2 # symmetrize\n",
    "        else:\n",
    "            self.H = self.matrix + self.matrix.T  # symmetrize\n",
    "        print(self.H)\n",
    "        self.evals, self.evecs = np.linalg.eigh(self.H)  # calculate eigenvalues and eigenvectors\n",
    "\n",
    "    \"\"\" basic plotting functions \"\"\"\n",
    "\n",
    "    def plot_evals(self):\n",
    "        # Plot eigenvalues of hamiltonian matrix\n",
    "        plt.plot(self.evals, '.')\n",
    "        plt.ylabel(r'$E_i$')\n",
    "        plt.xlabel(r'$i$')\n",
    "        plt.show()\n",
    "\n",
    "    def plot_evec(self):\n",
    "        # Plot an eigenvector\n",
    "        self.psi = self.evecs[:,self.L//2] # Some eigenvector in the middle of the spectrum\n",
    "        plt.plot(np.abs(self.psi)**2)\n",
    "        plt.xlabel('x')\n",
    "        plt.ylabel(r'$ |\\psi(x)|^2$')\n",
    "        plt.show()\n",
    "\n",
    "    def plot_evec_disorder(self):\n",
    "        # Plot an eigenvector supposing disorder exists\n",
    "        self.psi = self.evecs[:,self.L//2] \n",
    "        fig, ax = plt.subplots(2,1,sharex=True)\n",
    "        ax[0].plot(np.abs(self.psi)**2)\n",
    "        ax[1].semilogy(np.abs(self.psi)**2)\n",
    "        ax[1].set_xlabel('x')\n",
    "        ax[0].set_ylabel(r'$ |\\psi(x)|^2$')\n",
    "        ax[1].set_ylabel(r'$ |\\psi(x)|^2$')\n",
    "        plt.show()\n",
    "\n",
    "    def plot_pr(self):\n",
    "        self.PR = 1./np.sum(np.abs(self.evecs)**4, axis=0) # 'evecs' is a matrix of $\\psi_i(x)$ amplitudes, 1st axis is x. This does the sum over x.\n",
    "        plt.plot(self.evals, self.PR, 'o')\n",
    "        plt.xlabel('E')\n",
    "        plt.ylabel('PR(E)')\n",
    "        plt.show()\n",
    "\n",
    "    \"\"\" hofstader butterfly support \"\"\"\n",
    "\n",
    "    # Plot the Hofstadter butterfly\n",
    "\n",
    "    def plot_butterfly(self):\n",
    "        plt.figure(figsize=(8, 6))\n",
    "        for p in range(1, self.L + 1):\n",
    "          for q in range(1, self.L + 1):\n",
    "              if q > p and gcd(p, q) == 1:\n",
    "                  nphi = p / q\n",
    "                  self.construct_matrix(phi = nphi) # Rebuild hamiltonian for each (p,q)\n",
    "                  # Plot each energy level for the given phi\n",
    "                  plt.plot(np.full_like(self.evals, nphi), self.evals, 'o', c=\"black\", markersize=0.1)\n",
    "\n",
    "        # Plot title and labels\n",
    "        plt.xlabel(r'$\\phi$', fontsize=15)\n",
    "        plt.ylabel(r'$E$', fontsize=15)\n",
    "        plt.title(r'Hofstadter Butterfly for $L=' + str(self.L) + '$', fontsize=15)\n",
    "        plt.grid()\n",
    "        plt.show()\n"
   ]
  },
  {
   "cell_type": "code",
   "execution_count": 15,
   "metadata": {},
   "outputs": [
    {
     "ename": "AttributeError",
     "evalue": "'Square_Hamiltonian' object has no attribute 'evals'",
     "output_type": "error",
     "traceback": [
      "\u001b[0;31m---------------------------------------------------------------------------\u001b[0m",
      "\u001b[0;31mAttributeError\u001b[0m                            Traceback (most recent call last)",
      "Cell \u001b[0;32mIn[15], line 3\u001b[0m\n\u001b[1;32m      1\u001b[0m \u001b[38;5;66;03m# example 1 - no disorder, phi = 1/2, L = 10\u001b[39;00m\n\u001b[1;32m      2\u001b[0m square \u001b[38;5;241m=\u001b[39m Square_Hamiltonian(length\u001b[38;5;241m=\u001b[39m\u001b[38;5;241m10\u001b[39m , t\u001b[38;5;241m=\u001b[39m\u001b[38;5;241m1.0\u001b[39m, disorder\u001b[38;5;241m=\u001b[39m\u001b[38;5;241m0.\u001b[39m , phi\u001b[38;5;241m=\u001b[39m \u001b[38;5;241m0.5\u001b[39m)\n\u001b[0;32m----> 3\u001b[0m \u001b[43msquare\u001b[49m\u001b[38;5;241;43m.\u001b[39;49m\u001b[43mplot_evals\u001b[49m\u001b[43m(\u001b[49m\u001b[43m)\u001b[49m\n\u001b[1;32m      4\u001b[0m \u001b[38;5;28mprint\u001b[39m()\n\u001b[1;32m      5\u001b[0m square\u001b[38;5;241m.\u001b[39mplot_evec()\n",
      "Cell \u001b[0;32mIn[14], line 47\u001b[0m, in \u001b[0;36mSquare_Hamiltonian.plot_evals\u001b[0;34m(self)\u001b[0m\n\u001b[1;32m     45\u001b[0m \u001b[38;5;28;01mdef\u001b[39;00m \u001b[38;5;21mplot_evals\u001b[39m(\u001b[38;5;28mself\u001b[39m):\n\u001b[1;32m     46\u001b[0m     \u001b[38;5;66;03m# Plot eigenvalues of hamiltonian matrix\u001b[39;00m\n\u001b[0;32m---> 47\u001b[0m     plt\u001b[38;5;241m.\u001b[39mplot(\u001b[38;5;28;43mself\u001b[39;49m\u001b[38;5;241;43m.\u001b[39;49m\u001b[43mevals\u001b[49m, \u001b[38;5;124m'\u001b[39m\u001b[38;5;124m.\u001b[39m\u001b[38;5;124m'\u001b[39m)\n\u001b[1;32m     48\u001b[0m     plt\u001b[38;5;241m.\u001b[39mylabel(\u001b[38;5;124mr\u001b[39m\u001b[38;5;124m'\u001b[39m\u001b[38;5;124m$E_i$\u001b[39m\u001b[38;5;124m'\u001b[39m)\n\u001b[1;32m     49\u001b[0m     plt\u001b[38;5;241m.\u001b[39mxlabel(\u001b[38;5;124mr\u001b[39m\u001b[38;5;124m'\u001b[39m\u001b[38;5;124m$i$\u001b[39m\u001b[38;5;124m'\u001b[39m)\n",
      "\u001b[0;31mAttributeError\u001b[0m: 'Square_Hamiltonian' object has no attribute 'evals'"
     ]
    }
   ],
   "source": [
    "# example 1 - no disorder, phi = 1/2, L = 10\n",
    "square = Square_Hamiltonian(length=10 , t=1.0, disorder=0. , phi= 0.5)\n",
    "square.plot_evals()\n",
    "print()\n",
    "square.plot_evec()\n",
    "print()\n",
    "square.plot_pr()\n",
    "print()\n",
    "square.plot_butterfly()"
   ]
  },
  {
   "cell_type": "code",
   "execution_count": 16,
   "metadata": {},
   "outputs": [
    {
     "ename": "AttributeError",
     "evalue": "'Square_Hamiltonian' object has no attribute 'evals'",
     "output_type": "error",
     "traceback": [
      "\u001b[0;31m---------------------------------------------------------------------------\u001b[0m",
      "\u001b[0;31mAttributeError\u001b[0m                            Traceback (most recent call last)",
      "Cell \u001b[0;32mIn[16], line 3\u001b[0m\n\u001b[1;32m      1\u001b[0m \u001b[38;5;66;03m# example 2 - W - 0.1, phi = 1/2, L = 10\u001b[39;00m\n\u001b[1;32m      2\u001b[0m square \u001b[38;5;241m=\u001b[39m Square_Hamiltonian(length\u001b[38;5;241m=\u001b[39m\u001b[38;5;241m10\u001b[39m , t\u001b[38;5;241m=\u001b[39m\u001b[38;5;241m1.0\u001b[39m, disorder\u001b[38;5;241m=\u001b[39m\u001b[38;5;241m0.1\u001b[39m , phi\u001b[38;5;241m=\u001b[39m \u001b[38;5;241m0.5\u001b[39m)\n\u001b[0;32m----> 3\u001b[0m \u001b[43msquare\u001b[49m\u001b[38;5;241;43m.\u001b[39;49m\u001b[43mplot_evals\u001b[49m\u001b[43m(\u001b[49m\u001b[43m)\u001b[49m\n\u001b[1;32m      4\u001b[0m \u001b[38;5;28mprint\u001b[39m()\n\u001b[1;32m      5\u001b[0m square\u001b[38;5;241m.\u001b[39mplot_evec_disorder()\n",
      "Cell \u001b[0;32mIn[14], line 47\u001b[0m, in \u001b[0;36mSquare_Hamiltonian.plot_evals\u001b[0;34m(self)\u001b[0m\n\u001b[1;32m     45\u001b[0m \u001b[38;5;28;01mdef\u001b[39;00m \u001b[38;5;21mplot_evals\u001b[39m(\u001b[38;5;28mself\u001b[39m):\n\u001b[1;32m     46\u001b[0m     \u001b[38;5;66;03m# Plot eigenvalues of hamiltonian matrix\u001b[39;00m\n\u001b[0;32m---> 47\u001b[0m     plt\u001b[38;5;241m.\u001b[39mplot(\u001b[38;5;28;43mself\u001b[39;49m\u001b[38;5;241;43m.\u001b[39;49m\u001b[43mevals\u001b[49m, \u001b[38;5;124m'\u001b[39m\u001b[38;5;124m.\u001b[39m\u001b[38;5;124m'\u001b[39m)\n\u001b[1;32m     48\u001b[0m     plt\u001b[38;5;241m.\u001b[39mylabel(\u001b[38;5;124mr\u001b[39m\u001b[38;5;124m'\u001b[39m\u001b[38;5;124m$E_i$\u001b[39m\u001b[38;5;124m'\u001b[39m)\n\u001b[1;32m     49\u001b[0m     plt\u001b[38;5;241m.\u001b[39mxlabel(\u001b[38;5;124mr\u001b[39m\u001b[38;5;124m'\u001b[39m\u001b[38;5;124m$i$\u001b[39m\u001b[38;5;124m'\u001b[39m)\n",
      "\u001b[0;31mAttributeError\u001b[0m: 'Square_Hamiltonian' object has no attribute 'evals'"
     ]
    }
   ],
   "source": [
    "# example 2 - W - 0.1, phi = 1/2, L = 10\n",
    "square = Square_Hamiltonian(length=10 , t=1.0, disorder=0.1 , phi= 0.5)\n",
    "square.plot_evals()\n",
    "print()\n",
    "square.plot_evec_disorder()\n",
    "print()\n",
    "square.plot_pr()\n",
    "print()\n",
    "square.plot_butterfly()"
   ]
  },
  {
   "cell_type": "markdown",
   "metadata": {},
   "source": [
    "Honeycomb Lattice"
   ]
  },
  {
   "cell_type": "code",
   "execution_count": 17,
   "metadata": {},
   "outputs": [],
   "source": [
    "class honeycomb_Hamiltonian:\n",
    "    \"\"\" Honeycomb lattice hamiltonian class \"\"\"\n",
    "    def __init__(self, length: int, t: float, disorder: float, phi: float):\n",
    "        self.L = length  # Set hamiltonian dimensions\n",
    "        self.matrix = np.zeros((self.L * self.L, self.L * self.L), dtype=complex)  # Initialize hamiltonian matrix\n",
    "        self.disorder = disorder  # Set disorder parameter\n",
    "        self.t = t # Set hopping amplitude\n",
    "        self.phi = phi # Set magnetic field parameter\n",
    "        # the AA and BB blocks should be zeros unless there are different on-site potentials\n",
    "        self.AA = np.zeros((self.L, self.L), dtype= complex) # AA block\n",
    "        self.BB = np.zeros((self.L, self.L), dtype= complex) # BB block\n",
    "\n",
    "    def disorder_setter(self, i):\n",
    "        # Incorporate the disorder parameter into matrix elements\n",
    "        eps_i = self.disorder * (2 * np.random.rand() - 1)  # Random on-site energy\n",
    "        self.AB[i, i] = eps_i\n",
    "\n",
    "    def AB_block(self):\n",
    "        self.AB = np.zeros((self.L, self.L), dtype= complex) # initialize AB\n",
    "        for i, j in np.ndindex((self.L, self.L)):\n",
    "       # Vertical hopping: Connect (i, j) to (i + 1, j) if (i + j) % 2 == 0\n",
    "       # (ie. if the sum of indices is even since the remainder is zero)\n",
    "            if (i + j) % 2 == 0:\n",
    "                m = (i + 1) % self.L\n",
    "                self.AB[i, j] = self.t\n",
    "\n",
    "           # Horizontal hopping: Connect (i, j) to (i, j + 1)\n",
    "            m = (j + 1) % self.L\n",
    "            self.AB[i, m] = self.t\n",
    "\n",
    "\n",
    "           # Apply phase factor for magnetic flux\n",
    "            if j < self.L - 1:  # Only apply phase if not on the last column\n",
    "                B = np.exp(1j * 2 * np.pi * (self.phi) * i)\n",
    "                self.AB[i, m] *= B  # Correct phase application\n",
    "\n",
    "            if self.disorder != 0:\n",
    "                self.disorder_setter(i)\n",
    "\n",
    "        return self.AB\n",
    "\n",
    "\n",
    "    def BA_block(self):\n",
    "        return self.AB_block().T.conjugate()\n",
    "\n",
    "    def construct_matrix(self):\n",
    "        # In this case, we want to combine the blocks to form the hamiltonian\n",
    "        self.AB = self.AB_block()\n",
    "        self.BA = self.BA_block()\n",
    "        # construct complete hamiltonian using the four blocks\n",
    "\n",
    "        self.upper = np.concatenate((self.AA, self.AB), axis=1)\n",
    "        self.lower = np.concatenate((self.BA, self.BB), axis=1)\n",
    "        self.H = np.concatenate((self.upper, self.lower), axis=0)\n",
    "        self.evals, self.evecs = np.linalg.eigh(self.H)  # calculate eigenvalues and eigenvectors\n",
    "\n",
    "    \"\"\" basic plotting functions \"\"\"\n",
    "\n",
    "    def plot_evals(self):\n",
    "        # Plot eigenvalues of hamiltonian matrix\n",
    "        plt.plot(self.evals, '.')\n",
    "        plt.ylabel(r'$E_i$')\n",
    "        plt.xlabel(r'$i$')\n",
    "        plt.show()\n",
    "\n",
    "    def plot_evec(self):\n",
    "        # Plot an eigenvector\n",
    "        self.psi = self.evecs[:,self.L//2] # Some eigenvector in the middle of the spectrum\n",
    "        plt.plot(np.abs(self.psi)**2)\n",
    "        plt.xlabel('x')\n",
    "        plt.ylabel(r'$ |\\psi(x)|^2$')\n",
    "        plt.show()\n",
    "\n",
    "    def plot_evec_disorder(self):\n",
    "        # Plot an eigenvector supposing disorder exists\n",
    "        self.psi = self.evecs[:,self.L//2] \n",
    "        fig, ax = plt.subplots(2,1,sharex=True)\n",
    "        ax[0].plot(np.abs(self.psi)**2)\n",
    "        ax[1].semilogy(np.abs(self.psi)**2)\n",
    "        ax[1].set_xlabel('x')\n",
    "        ax[0].set_ylabel(r'$ |\\psi(x)|^2$')\n",
    "        ax[1].set_ylabel(r'$ |\\psi(x)|^2$')\n",
    "        plt.show()\n",
    "\n",
    "    def plot_pr(self):\n",
    "        self.PR = 1./np.sum(np.abs(self.evecs)**4, axis=0) \n",
    "        plt.plot(self.evals, self.PR, 'o')\n",
    "        plt.xlabel('E')\n",
    "        plt.ylabel('PR(E)')\n",
    "        plt.show()\n",
    "\n",
    "    \"\"\" hofstader butterfly support \"\"\"\n",
    "\n",
    "    # Plotting the butterfly\n",
    "    def plot_butterfly(self):\n",
    "        plt.figure(figsize=(8, 6))\n",
    "        for p in range(1, self.L + 1):\n",
    "            for q in range(p + 1, self.L + 1):\n",
    "                if gcd(p, q) == 1:\n",
    "                    nphi = p / q\n",
    "                    self.phi = nphi  # Set magnetic flux\n",
    "                    self.construct_matrix()  # Rebuild Hamiltonian for each (p,q)\n",
    "                    # Plot each energy level for the given phi\n",
    "                    plt.plot(np.full_like(self.evals, nphi), self.evals,'o', c=\"black\", markersize=0.5)\n",
    "\n",
    "        # Plot title and labels\n",
    "        plt.xlabel(r'$\\phi$', fontsize=15)\n",
    "        plt.ylabel(r'$E$', fontsize=15)\n",
    "        plt.title(r'Hofstadter Butterfly for $L=' + str(self.L) + '$', fontsize=15)\n",
    "        plt.grid()\n",
    "        plt.show()\n"
   ]
  },
  {
   "cell_type": "code",
   "execution_count": 18,
   "metadata": {},
   "outputs": [
    {
     "ename": "AttributeError",
     "evalue": "'honeycomb_Hamiltonian' object has no attribute 'evals'",
     "output_type": "error",
     "traceback": [
      "\u001b[0;31m---------------------------------------------------------------------------\u001b[0m",
      "\u001b[0;31mAttributeError\u001b[0m                            Traceback (most recent call last)",
      "Cell \u001b[0;32mIn[18], line 3\u001b[0m\n\u001b[1;32m      1\u001b[0m \u001b[38;5;66;03m# example 1 - repeated for honeycomb\u001b[39;00m\n\u001b[1;32m      2\u001b[0m honeycomb \u001b[38;5;241m=\u001b[39m honeycomb_Hamiltonian(length\u001b[38;5;241m=\u001b[39m\u001b[38;5;241m10\u001b[39m , t\u001b[38;5;241m=\u001b[39m\u001b[38;5;241m1.0\u001b[39m, disorder\u001b[38;5;241m=\u001b[39m\u001b[38;5;241m0.\u001b[39m , phi\u001b[38;5;241m=\u001b[39m \u001b[38;5;241m0.5\u001b[39m)\n\u001b[0;32m----> 3\u001b[0m \u001b[43mhoneycomb\u001b[49m\u001b[38;5;241;43m.\u001b[39;49m\u001b[43mplot_evals\u001b[49m\u001b[43m(\u001b[49m\u001b[43m)\u001b[49m\n\u001b[1;32m      4\u001b[0m \u001b[38;5;28mprint\u001b[39m()\n\u001b[1;32m      5\u001b[0m honeycomb\u001b[38;5;241m.\u001b[39mplot_evec()\n",
      "Cell \u001b[0;32mIn[17], line 61\u001b[0m, in \u001b[0;36mhoneycomb_Hamiltonian.plot_evals\u001b[0;34m(self)\u001b[0m\n\u001b[1;32m     59\u001b[0m \u001b[38;5;28;01mdef\u001b[39;00m \u001b[38;5;21mplot_evals\u001b[39m(\u001b[38;5;28mself\u001b[39m):\n\u001b[1;32m     60\u001b[0m     \u001b[38;5;66;03m# Plot eigenvalues of hamiltonian matrix\u001b[39;00m\n\u001b[0;32m---> 61\u001b[0m     plt\u001b[38;5;241m.\u001b[39mplot(\u001b[38;5;28;43mself\u001b[39;49m\u001b[38;5;241;43m.\u001b[39;49m\u001b[43mevals\u001b[49m, \u001b[38;5;124m'\u001b[39m\u001b[38;5;124m.\u001b[39m\u001b[38;5;124m'\u001b[39m)\n\u001b[1;32m     62\u001b[0m     plt\u001b[38;5;241m.\u001b[39mylabel(\u001b[38;5;124mr\u001b[39m\u001b[38;5;124m'\u001b[39m\u001b[38;5;124m$E_i$\u001b[39m\u001b[38;5;124m'\u001b[39m)\n\u001b[1;32m     63\u001b[0m     plt\u001b[38;5;241m.\u001b[39mxlabel(\u001b[38;5;124mr\u001b[39m\u001b[38;5;124m'\u001b[39m\u001b[38;5;124m$i$\u001b[39m\u001b[38;5;124m'\u001b[39m)\n",
      "\u001b[0;31mAttributeError\u001b[0m: 'honeycomb_Hamiltonian' object has no attribute 'evals'"
     ]
    }
   ],
   "source": [
    "# example 1 - repeated for honeycomb\n",
    "honeycomb = honeycomb_Hamiltonian(length=10 , t=1.0, disorder=0. , phi= 0.5)\n",
    "honeycomb.plot_evals()\n",
    "print()\n",
    "honeycomb.plot_evec()\n",
    "print()\n",
    "honeycomb.plot_pr()\n",
    "print()\n",
    "honeycomb.plot_butterfly"
   ]
  },
  {
   "cell_type": "markdown",
   "metadata": {},
   "source": [
    "Triangular Lattice"
   ]
  },
  {
   "cell_type": "markdown",
   "metadata": {},
   "source": [
    "Kagome Lattice"
   ]
  },
  {
   "cell_type": "markdown",
   "metadata": {},
   "source": [
    "Oblique Lattice "
   ]
  }
 ],
 "metadata": {
  "kernelspec": {
   "display_name": "Python 3 (ipykernel)",
   "language": "python",
   "name": "python3"
  },
  "language_info": {
   "codemirror_mode": {
    "name": "ipython",
    "version": 3
   },
   "file_extension": ".py",
   "mimetype": "text/x-python",
   "name": "python",
   "nbconvert_exporter": "python",
   "pygments_lexer": "ipython3",
   "version": "3.12.5"
  }
 },
 "nbformat": 4,
 "nbformat_minor": 2
}
